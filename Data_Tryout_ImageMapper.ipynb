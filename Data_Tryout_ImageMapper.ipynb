{
 "cells": [
  {
   "cell_type": "code",
   "execution_count": 1,
   "metadata": {},
   "outputs": [
    {
     "ename": "ImportError",
     "evalue": "cannot import name 'DataContainer' from 'ctapipe.containers' (/home/hanneswarnhofer/miniconda3/envs/HESSML_ENV2/lib/python3.10/site-packages/ctapipe/containers.py)",
     "output_type": "error",
     "traceback": [
      "\u001b[0;31m---------------------------------------------------------------------------\u001b[0m",
      "\u001b[0;31mImportError\u001b[0m                               Traceback (most recent call last)",
      "Cell \u001b[0;32mIn[1], line 1\u001b[0m\n\u001b[0;32m----> 1\u001b[0m \u001b[39mfrom\u001b[39;00m \u001b[39mdl1_data_handler\u001b[39;00m\u001b[39m.\u001b[39;00m\u001b[39mwriter\u001b[39;00m \u001b[39mimport\u001b[39;00m DL1DataWriter, CTAMLDataDumper\n",
      "File \u001b[0;32m~/miniconda3/envs/HESSML_ENV2/lib/python3.10/site-packages/dl1_data_handler/writer.py:29\u001b[0m\n\u001b[1;32m     27\u001b[0m \u001b[39mfrom\u001b[39;00m \u001b[39mctapipe\u001b[39;00m\u001b[39m.\u001b[39;00m\u001b[39minstrument\u001b[39;00m\u001b[39m.\u001b[39;00m\u001b[39mcamera\u001b[39;00m \u001b[39mimport\u001b[39;00m CameraGeometry\n\u001b[1;32m     28\u001b[0m \u001b[39mfrom\u001b[39;00m \u001b[39mdl1_data_handler\u001b[39;00m \u001b[39mimport\u001b[39;00m table_definitions \u001b[39mas\u001b[39;00m table_defs\n\u001b[0;32m---> 29\u001b[0m \u001b[39mfrom\u001b[39;00m \u001b[39mdl1_data_handler\u001b[39;00m \u001b[39mimport\u001b[39;00m dl_eventsources\n\u001b[1;32m     31\u001b[0m logger \u001b[39m=\u001b[39m logging\u001b[39m.\u001b[39mgetLogger(\u001b[39m__name__\u001b[39m)\n\u001b[1;32m     34\u001b[0m \u001b[39mclass\u001b[39;00m \u001b[39mDL1DataDumper\u001b[39;00m(ABC):\n",
      "File \u001b[0;32m~/miniconda3/envs/HESSML_ENV2/lib/python3.10/site-packages/dl1_data_handler/dl_eventsources.py:9\u001b[0m\n\u001b[1;32m      7\u001b[0m \u001b[39mfrom\u001b[39;00m \u001b[39mastropy\u001b[39;00m \u001b[39mimport\u001b[39;00m units \u001b[39mas\u001b[39;00m u\n\u001b[1;32m      8\u001b[0m \u001b[39mfrom\u001b[39;00m \u001b[39mastropy\u001b[39;00m\u001b[39m.\u001b[39;00m\u001b[39mcoordinates\u001b[39;00m \u001b[39mimport\u001b[39;00m Angle\n\u001b[0;32m----> 9\u001b[0m \u001b[39mfrom\u001b[39;00m \u001b[39mctapipe\u001b[39;00m\u001b[39m.\u001b[39;00m\u001b[39mcontainers\u001b[39;00m \u001b[39mimport\u001b[39;00m (\n\u001b[1;32m     10\u001b[0m     DataContainer,\n\u001b[1;32m     11\u001b[0m     TelescopePointingContainer,\n\u001b[1;32m     12\u001b[0m     LeakageContainer,\n\u001b[1;32m     13\u001b[0m     HillasParametersContainer,\n\u001b[1;32m     14\u001b[0m     ConcentrationContainer,\n\u001b[1;32m     15\u001b[0m     TimingParametersContainer,\n\u001b[1;32m     16\u001b[0m     MorphologyContainer,\n\u001b[1;32m     17\u001b[0m )\n\u001b[1;32m     18\u001b[0m \u001b[39mfrom\u001b[39;00m \u001b[39mctapipe\u001b[39;00m\u001b[39m.\u001b[39;00m\u001b[39minstrument\u001b[39;00m \u001b[39mimport\u001b[39;00m (\n\u001b[1;32m     19\u001b[0m     TelescopeDescription,\n\u001b[1;32m     20\u001b[0m     SubarrayDescription,\n\u001b[0;32m   (...)\u001b[0m\n\u001b[1;32m     24\u001b[0m     CameraDescription,\n\u001b[1;32m     25\u001b[0m )\n\u001b[1;32m     26\u001b[0m \u001b[39mfrom\u001b[39;00m \u001b[39mctapipe\u001b[39;00m\u001b[39m.\u001b[39;00m\u001b[39mio\u001b[39;00m\u001b[39m.\u001b[39;00m\u001b[39meventsource\u001b[39;00m \u001b[39mimport\u001b[39;00m EventSource\n",
      "\u001b[0;31mImportError\u001b[0m: cannot import name 'DataContainer' from 'ctapipe.containers' (/home/hanneswarnhofer/miniconda3/envs/HESSML_ENV2/lib/python3.10/site-packages/ctapipe/containers.py)"
     ]
    }
   ],
   "source": [
    "\n",
    "from dl1_data_handler.writer import DL1DataWriter, CTAMLDataDumper"
   ]
  },
  {
   "cell_type": "code",
   "execution_count": null,
   "metadata": {},
   "outputs": [],
   "source": []
  }
 ],
 "metadata": {
  "kernelspec": {
   "display_name": "HESSML_ENV2",
   "language": "python",
   "name": "python3"
  },
  "language_info": {
   "codemirror_mode": {
    "name": "ipython",
    "version": 3
   },
   "file_extension": ".py",
   "mimetype": "text/x-python",
   "name": "python",
   "nbconvert_exporter": "python",
   "pygments_lexer": "ipython3",
   "version": "3.10.9"
  },
  "orig_nbformat": 4
 },
 "nbformat": 4,
 "nbformat_minor": 2
}
